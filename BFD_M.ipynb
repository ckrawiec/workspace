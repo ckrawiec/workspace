{
 "cells": [
  {
   "cell_type": "code",
   "execution_count": 2,
   "metadata": {
    "collapsed": false
   },
   "outputs": [],
   "source": [
    "%matplotlib inline\n",
    "import matplotlib.pylab as pylab\n",
    "pylab.rcParams['figure.figsize'] = 8, 6 \n",
    "\n",
    "import numpy as np\n",
    "import matplotlib.pyplot as plt\n",
    "from scipy.optimize import leastsq, curve_fit"
   ]
  },
  {
   "cell_type": "code",
   "execution_count": 81,
   "metadata": {
    "collapsed": true
   },
   "outputs": [],
   "source": [
    "def f(p,x):\n",
    "    #dg/g = m + a*g^2\n",
    "    return p[0] + p[1]*x**2.\n",
    "def func(x,pm,pa):\n",
    "    return pm + pa*x**2."
   ]
  },
  {
   "cell_type": "code",
   "execution_count": 82,
   "metadata": {
    "collapsed": true
   },
   "outputs": [],
   "source": [
    "def diff(params):\n",
    "    return dg/g - f(params,g)"
   ]
  },
  {
   "cell_type": "code",
   "execution_count": 83,
   "metadata": {
    "collapsed": true
   },
   "outputs": [],
   "source": [
    "def m(g,dg):\n",
    "    #least squares fit\n",
    "    return (sum(dg/g)-sum(g*dg)*sum(g**2.)/sum(g**4.))*sum(g**4.)/(len(g)*sum(g**4.)-sum(g**2.)**2.)"
   ]
  },
  {
   "cell_type": "code",
   "execution_count": 84,
   "metadata": {
    "collapsed": false
   },
   "outputs": [],
   "source": [
    "def dm(g,ddg):\n",
    "    #uncertainty on fit m\n",
    "    a = sum(g**4.)/(len(g)*sum(g**4.)-(sum(g**2.)**2.))\n",
    "    b = np.sqrt( sum(((1/g-g*sum(g**2.)/sum(g**4.)) * ddg)**2.) )\n",
    "    return a*b"
   ]
  },
  {
   "cell_type": "code",
   "execution_count": 91,
   "metadata": {
    "collapsed": false
   },
   "outputs": [],
   "source": [
    "g = np.array([0.02,0.04,0.06]) #shear inputs\n",
    "dg = np.array([0.0000433137791,0.000123812,0.0002211333333]) #g_measured - g_true\n",
    "ddg = np.array([8.62609128532e-6,1.52537985446e-5,2.92091886528e-05]) #uncertainty on dg\n",
    "N = np.array([1720,550,150])"
   ]
  },
  {
   "cell_type": "code",
   "execution_count": 92,
   "metadata": {
    "collapsed": false
   },
   "outputs": [
    {
     "name": "stdout",
     "output_type": "stream",
     "text": [
      "[[  1.82160432e-07  -7.05814113e-05]\n",
      " [ -7.05814113e-05   4.10188231e-02]]\n"
     ]
    }
   ],
   "source": [
    "lp = leastsq(diff,[1.0,1.0])\n",
    "popt, pcov = curve_fit(func, g, dg/g, sigma=ddg/g, absolute_sigma=True)\n",
    "print pcov"
   ]
  },
  {
   "cell_type": "code",
   "execution_count": 93,
   "metadata": {
    "collapsed": false
   },
   "outputs": [
    {
     "data": {
      "text/plain": [
       "<matplotlib.text.Text at 0x111d20790>"
      ]
     },
     "execution_count": 93,
     "metadata": {},
     "output_type": "execute_result"
    },
    {
     "data": {
      "image/png": "[encoded data removed]",
      "text/plain": [
       "<matplotlib.figure.Figure at 0x111b70810>"
      ]
     },
     "metadata": {},
     "output_type": "display_data"
    }
   ],
   "source": [
    "x = np.arange(0.,0.065,0.001)\n",
    "fitptx = np.array([0])\n",
    "fitpty = np.array(popt[0])\n",
    "fiterror = np.array(np.sqrt(pcov[0][0]))\n",
    "\n",
    "plt.scatter(g,dg/g,label='data')\n",
    "plt.errorbar(g,dg/g,ddg/g, linestyle='None')\n",
    "plt.plot(x,func(x,popt[0],popt[1]),c='g',label='curve_fit')\n",
    "#plt.plot(x,func(x,lp[0][0],lp[0][1]),c='r',label='leastsq')\n",
    "plt.scatter([0],popt[0],c='g')\n",
    "plt.errorbar(fitptx,fitpty,fiterror,c='g')\n",
    "plt.xlim(-0.005,0.065)\n",
    "plt.ylim(0.,0.005)\n",
    "plt.legend(loc='upper left')\n",
    "plt.xlabel('g')\n",
    "plt.ylabel('dg/g')"
   ]
  },
  {
   "cell_type": "code",
   "execution_count": 94,
   "metadata": {
    "collapsed": false
   },
   "outputs": [
    {
     "name": "stdout",
     "output_type": "stream",
     "text": [
      "m =  0.00214692497925  +/-  0.00042680256753\n"
     ]
    }
   ],
   "source": [
    "print 'm = ',popt[0], ' +/- ', np.sqrt(pcov[0][0])#,dm(g,ddg)"
   ]
  },
  {
   "cell_type": "code",
   "execution_count": 76,
   "metadata": {
    "collapsed": true
   },
   "outputs": [],
   "source": [
    "def grange(gmax,n):\n",
    "    return np.array([i*gmax/n for i in range(1,n+1)])"
   ]
  },
  {
   "cell_type": "code",
   "execution_count": 58,
   "metadata": {
    "collapsed": false
   },
   "outputs": [
    {
     "data": {
      "text/plain": [
       "array([ 0.02,  0.04,  0.06])"
      ]
     },
     "execution_count": 58,
     "metadata": {},
     "output_type": "execute_result"
    }
   ],
   "source": [
    "grange(0.06,3)"
   ]
  },
  {
   "cell_type": "code",
   "execution_count": 59,
   "metadata": {
    "collapsed": true
   },
   "outputs": [],
   "source": [
    "def ug(N):\n",
    "    return 0.000357/np.sqrt(N)"
   ]
  },
  {
   "cell_type": "code",
   "execution_count": 60,
   "metadata": {
    "collapsed": false
   },
   "outputs": [
    {
     "data": {
      "image/png": "[encoded data removed]",
      "text/plain": [
       "<matplotlib.figure.Figure at 0x11099f290>"
      ]
     },
     "metadata": {},
     "output_type": "display_data"
    }
   ],
   "source": [
    "#Same uncertainty for each shear input\n",
    "gmax = 0.06\n",
    "for n in range(2,10):\n",
    "    gr = grange(gmax,n)\n",
    "    dmr = [dm(gr,0.000357)]\n",
    "    plt.scatter([n]*len(dmr),dmr,edgecolor='none')\n",
    "plt.xlabel('Number of shear inputs')\n",
    "plt.ylabel('Uncertainty on m')\n",
    "plt.ylim([0.0155,0.0170])\n",
    "plt.show()"
   ]
  },
  {
   "cell_type": "code",
   "execution_count": 61,
   "metadata": {
    "collapsed": false
   },
   "outputs": [
    {
     "data": {
      "text/plain": [
       "<matplotlib.text.Text at 0x10f58b3d0>"
      ]
     },
     "execution_count": 61,
     "metadata": {},
     "output_type": "execute_result"
    },
    {
     "data": {
      "image/png": "[encoded data removed]",
      "text/plain": [
       "<matplotlib.figure.Figure at 0x10df43310>"
      ]
     },
     "metadata": {},
     "output_type": "display_data"
    }
   ],
   "source": [
    "#Fixed shear inputs (2), varying uncertainties\n",
    "gw = np.array([0.02,0.04])\n",
    "Nrange = [np.arange(500,4000,10),np.arange(50,2000,10)]\n",
    "w = np.array([[[Ni,Nj] for Nj in Nrange[1]] for Ni in Nrange[0]])\n",
    "uw = np.array([[ug(i) for i in j] for j in w])\n",
    "ddw = np.array([[dm(gw,ugi) for ugi in uwj] for uwj in uw])\n",
    "\n",
    "plt.imshow(ddw,origin='lower',interpolation='nearest',\n",
    "           extent=[Nrange[1].min(),Nrange[1].max(),Nrange[0].min(),Nrange[0].max()])\n",
    "plt.colorbar(label='uncertainty on m')\n",
    "\n",
    "plt.xlabel('Number of g=0.04 jobs')\n",
    "plt.ylabel('Number of g=0.02 jobs')"
   ]
  },
  {
   "cell_type": "code",
   "execution_count": 62,
   "metadata": {
    "collapsed": false
   },
   "outputs": [
    {
     "name": "stdout",
     "output_type": "stream",
     "text": [
      "For dm <=  0.0004 :\n",
      "    Number of g=0.02 jobs:  3930\n",
      "    Number of g=0.04 jobs:  560\n",
      "    Total number of jobs to run =  4490\n"
     ]
    }
   ],
   "source": [
    "mindm = 0.0004\n",
    "jobs = w[np.where(ddw<=mindm)]\n",
    "sumjobs = np.sum(jobs,axis=1)\n",
    "minjobs = min(sumjobs)\n",
    "minjobpair = jobs[np.where(sumjobs==minjobs)]\n",
    "print \"For dm <= \", mindm, \":\"\n",
    "print \"    Number of g=0.02 jobs: \", minjobpair[0][0]\n",
    "print \"    Number of g=0.04 jobs: \", minjobpair[0][1]\n",
    "print \"    Total number of jobs to run = \", minjobs"
   ]
  },
  {
   "cell_type": "code",
   "execution_count": 63,
   "metadata": {
    "collapsed": false
   },
   "outputs": [],
   "source": [
    "#Fixed shear inputs (3), varying uncertainties\n",
    "gw3 = np.array([0.02,0.04,0.06])\n",
    "Nrange3 = [np.arange(800,3000,50),np.arange(50,3000,100),np.arange(10,3000,50)]\n",
    "\n",
    "w3 = np.array([[[[Ni,Nj,Nk] for Nk in Nrange3[2]] for Nj in Nrange3[1]] for Ni in Nrange3[0]])\n",
    "uw3 = np.array([[[ug(k) for k in i] for i in j] for j in w3])\n",
    "ddw3 = np.array([[[dm(gw3,ugk) for ugk in ugi] for ugi in uwj] for uwj in uw3])"
   ]
  },
  {
   "cell_type": "code",
   "execution_count": 64,
   "metadata": {
    "collapsed": false
   },
   "outputs": [
    {
     "name": "stdout",
     "output_type": "stream",
     "text": [
      "For dm <=  0.0004 :\n",
      "    Number of g=0.02 jobs:  1900\n",
      "    Number of g=0.04 jobs:  550\n",
      "    Number of g=0.06 jobs:  310\n",
      "    Total number of jobs to run =  2760\n"
     ]
    }
   ],
   "source": [
    "jobs3 = w3[np.where(ddw3<=mindm)]\n",
    "sumjobs3 = np.sum(jobs3,axis=1)\n",
    "minjobs3 = min(sumjobs3)\n",
    "minjobpair3 = jobs3[np.where(sumjobs3==minjobs3)]\n",
    "print \"For dm <= \", mindm, \":\"\n",
    "print \"    Number of g=0.02 jobs: \", minjobpair3[0][0]\n",
    "print \"    Number of g=0.04 jobs: \", minjobpair3[0][1]\n",
    "print \"    Number of g=0.06 jobs: \", minjobpair3[0][2]\n",
    "print \"    Total number of jobs to run = \", minjobs3"
   ]
  },
  {
   "cell_type": "code",
   "execution_count": null,
   "metadata": {
    "collapsed": false
   },
   "outputs": [],
   "source": []
  },
  {
   "cell_type": "code",
   "execution_count": null,
   "metadata": {
    "collapsed": true
   },
   "outputs": [],
   "source": []
  }
 ],
 "metadata": {
  "kernelspec": {
   "display_name": "Python 2",
   "language": "python",
   "name": "python2"
  },
  "language_info": {
   "codemirror_mode": {
    "name": "ipython",
    "version": 2
   },
   "file_extension": ".py",
   "mimetype": "text/x-python",
   "name": "python",
   "nbconvert_exporter": "python",
   "pygments_lexer": "ipython2",
   "version": "2.7.11"
  }
 },
 "nbformat": 4,
 "nbformat_minor": 0
}
