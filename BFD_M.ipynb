{
 "cells": [
  {
   "cell_type": "code",
   "execution_count": 114,
   "metadata": {
    "collapsed": false
   },
   "outputs": [],
   "source": [
    "%matplotlib inline\n",
    "import matplotlib.pylab as pylab\n",
    "pylab.rcParams['figure.figsize'] = 8, 6 \n",
    "\n",
    "import numpy as np\n",
    "import matplotlib.pyplot as plt\n",
    "from scipy.optimize import leastsq"
   ]
  },
  {
   "cell_type": "code",
   "execution_count": 115,
   "metadata": {
    "collapsed": false
   },
   "outputs": [],
   "source": [
    "g = np.array([0.02,0.04]) #shear inputs\n",
    "dg = np.array([0.000045024,0.00013203]) #g_measured - g_true\n",
    "ddg = np.array([9.0578e-6,2.1079e-5]) #uncertainty on dg"
   ]
  },
  {
   "cell_type": "code",
   "execution_count": 116,
   "metadata": {
    "collapsed": true
   },
   "outputs": [],
   "source": [
    "def f(p,x):\n",
    "    #dg/g = m + a*g^2\n",
    "    return p[0] + p[1]*x**2."
   ]
  },
  {
   "cell_type": "code",
   "execution_count": 117,
   "metadata": {
    "collapsed": true
   },
   "outputs": [],
   "source": [
    "def diff(params):\n",
    "    return dg/g - f(params,g)"
   ]
  },
  {
   "cell_type": "code",
   "execution_count": 118,
   "metadata": {
    "collapsed": true
   },
   "outputs": [],
   "source": [
    "def m(g,dg):\n",
    "    #least squares fit\n",
    "    return (sum(dg/g)-sum(g*dg)*sum(g**2.)/sum(g**4.))*sum(g**4.)/(len(g)*sum(g**4.)-sum(g**2.)**2.)"
   ]
  },
  {
   "cell_type": "code",
   "execution_count": 119,
   "metadata": {
    "collapsed": false
   },
   "outputs": [],
   "source": [
    "def dm(g,ddg):\n",
    "    #uncertainty on fit m\n",
    "    a = sum(g**4.)/(len(g)*sum(g**4.)-(sum(g**2.)**2.))\n",
    "    b = np.sqrt( sum(((1/g-g*sum(g**2.)/sum(g**4.)) * ddg)**2.) )\n",
    "    return a*b"
   ]
  },
  {
   "cell_type": "code",
   "execution_count": 120,
   "metadata": {
    "collapsed": false
   },
   "outputs": [],
   "source": [
    "lp = leastsq(diff,[1.0,1.0])"
   ]
  },
  {
   "cell_type": "code",
   "execution_count": 121,
   "metadata": {
    "collapsed": false
   },
   "outputs": [
    {
     "data": {
      "text/plain": [
       "<matplotlib.text.Text at 0x113221410>"
      ]
     },
     "execution_count": 121,
     "metadata": {},
     "output_type": "execute_result"
    },
    {
     "data": {
      "image/png": "[encoded data removed]",
      "text/plain": [
       "<matplotlib.figure.Figure at 0x10f8b7c90>"
      ]
     },
     "metadata": {},
     "output_type": "display_data"
    }
   ],
   "source": [
    "x = np.arange(0.,0.045,0.001)\n",
    "fitptx = np.array([0])\n",
    "fitpty = np.array([m(g,dg)])\n",
    "fiterror = np.array([dm(g,ddg)])\n",
    "\n",
    "plt.scatter(g,dg/g,label='data')\n",
    "plt.errorbar(g,dg/g,ddg/g, linestyle='None')\n",
    "plt.plot(x,f(lp[0],x),label='fit',c='g')\n",
    "plt.scatter([0],[m(g,dg)],c='g')\n",
    "plt.errorbar(fitptx,fitpty,fiterror,c='g')\n",
    "plt.xlim(-0.005,0.045)\n",
    "plt.ylim(0.,0.005)\n",
    "plt.legend(loc='upper left')\n",
    "plt.xlabel('g')\n",
    "plt.ylabel('dg/g')"
   ]
  },
  {
   "cell_type": "code",
   "execution_count": 122,
   "metadata": {
    "collapsed": false
   },
   "outputs": [
    {
     "name": "stdout",
     "output_type": "stream",
     "text": [
      "m =  0.00190135  +/-  0.000628883692146\n"
     ]
    }
   ],
   "source": [
    "print 'm = ',m(g,dg), ' +/- ', dm(g,ddg)"
   ]
  },
  {
   "cell_type": "code",
   "execution_count": 123,
   "metadata": {
    "collapsed": true
   },
   "outputs": [],
   "source": [
    "def grange(gmax,n):\n",
    "    return np.array([i*gmax/n for i in range(1,n+1)])"
   ]
  },
  {
   "cell_type": "code",
   "execution_count": 124,
   "metadata": {
    "collapsed": false
   },
   "outputs": [
    {
     "data": {
      "text/plain": [
       "array([ 0.04])"
      ]
     },
     "execution_count": 124,
     "metadata": {},
     "output_type": "execute_result"
    }
   ],
   "source": [
    "grange(0.04,1)"
   ]
  },
  {
   "cell_type": "code",
   "execution_count": 125,
   "metadata": {
    "collapsed": true
   },
   "outputs": [],
   "source": [
    "def ug(N):\n",
    "    return 0.000357/np.sqrt(N)"
   ]
  },
  {
   "cell_type": "code",
   "execution_count": 234,
   "metadata": {
    "collapsed": false
   },
   "outputs": [
    {
     "data": {
      "image/png": "[encoded data removed]",
      "text/plain": [
       "<matplotlib.figure.Figure at 0x1169d1c50>"
      ]
     },
     "metadata": {},
     "output_type": "display_data"
    }
   ],
   "source": [
    "#Same uncertainty for each shear input\n",
    "gmax = 0.06\n",
    "for n in range(2,10):\n",
    "    gr = grange(gmax,n)\n",
    "    dmr = [dm(gr,0.000357)]\n",
    "    plt.scatter([n]*len(dmr),dmr,edgecolor='none')\n",
    "plt.xlabel('Number of shear inputs')\n",
    "plt.ylabel('Uncertainty on m')\n",
    "plt.ylim([0.0155,0.0170])\n",
    "plt.show()"
   ]
  },
  {
   "cell_type": "code",
   "execution_count": 251,
   "metadata": {
    "collapsed": false
   },
   "outputs": [
    {
     "data": {
      "text/plain": [
       "<matplotlib.colorbar.Colorbar at 0x1150c39d0>"
      ]
     },
     "execution_count": 251,
     "metadata": {},
     "output_type": "execute_result"
    },
    {
     "data": {
      "image/png": "[encoded data removed]",
      "text/plain": [
       "<matplotlib.figure.Figure at 0x1130316d0>"
      ]
     },
     "metadata": {},
     "output_type": "display_data"
    }
   ],
   "source": [
    "gw = np.array([0.02,0.04])\n",
    "Nrange = [np.arange(800,3000,10),np.arange(50,2000,10)]#,np.arange(10,1000,10)]\n",
    "w = np.array([[[Ni,Nj] for Nj in Nrange[1]] for Ni in Nrange[0]])\n",
    "uw = np.array([[ug(i) for i in j] for j in w])\n",
    "ddw = np.array([[dm(gw,ugi) for ugi in uwj] for uwj in uw])\n",
    "\n",
    "plt.imshow(ddw,origin='lower',interpolation='nearest',\n",
    "           extent=[Nrange04.min(),Nrange04.max(),Nrange02.min(),Nrange02.max()])\n",
    "plt.xlabel('Number of g=0.04 jobs')\n",
    "plt.ylabel('Number of g=0.02 jobs')\n",
    "plt.colorbar(label='uncertainty on m')"
   ]
  },
  {
   "cell_type": "code",
   "execution_count": 247,
   "metadata": {
    "collapsed": false
   },
   "outputs": [
    {
     "name": "stdout",
     "output_type": "stream",
     "text": [
      "Number of g=0.02 jobs for dm=0.00045:  2870\n",
      "Number of g=0.04 jobs for dm=0.00045:  1730\n",
      "Total number of jobs to run =  4600\n"
     ]
    }
   ],
   "source": [
    "mindm = 0.00045\n",
    "jobs = w[np.where(ddw<=0.00045)][0]\n",
    "print \"Number of g=0.02 jobs for dm=0.00045: \", jobs[0]\n",
    "print \"Number of g=0.04 jobs for dm=0.00045: \", jobs[1]\n",
    "print \"Total number of jobs to run = \", sum(jobs)"
   ]
  },
  {
   "cell_type": "code",
   "execution_count": null,
   "metadata": {
    "collapsed": true
   },
   "outputs": [],
   "source": [
    "gw = np.array([0.02,0.04,0.06])\n",
    "Nrange = [np.arange(800,1000,100),np.arange(50,200,100),np.arange(10,100,50)]"
   ]
  },
  {
   "cell_type": "code",
   "execution_count": null,
   "metadata": {
    "collapsed": true
   },
   "outputs": [],
   "source": [
    "w = np.array([[[[Ni,Nj,Nk] for Nk in Nrange[2]] for Nj in Nrange[1]] for Ni in Nrange[0]])"
   ]
  },
  {
   "cell_type": "code",
   "execution_count": null,
   "metadata": {
    "collapsed": true
   },
   "outputs": [],
   "source": [
    "#uw = np.array([[[ug(i) for k in i] for i in j] for j in w])\n",
    "#ddw = np.array([[[dm(gw,ugi) for ugk in ugi] for ugi in uwj] for uwj in uw])\n",
    "\n",
    "#plt.imshow(ddw,origin='lower',interpolation='nearest',\n",
    "#           extent=[Nrange[2].min(),Nrange[2].max(),Nrange[1].min(),Nrange[1].max(),Nrange[0].min(),Nrange[0].max()])\n",
    "#plt.xlabel('Number of g=0.04 jobs')\n",
    "#plt.ylabel('Number of g=0.02 jobs')\n",
    "#plt.colorbar(label='uncertainty on m')"
   ]
  },
  {
   "cell_type": "code",
   "execution_count": null,
   "metadata": {
    "collapsed": true
   },
   "outputs": [],
   "source": []
  },
  {
   "cell_type": "code",
   "execution_count": null,
   "metadata": {
    "collapsed": true
   },
   "outputs": [],
   "source": []
  },
  {
   "cell_type": "code",
   "execution_count": null,
   "metadata": {
    "collapsed": true
   },
   "outputs": [],
   "source": []
  }
 ],
 "metadata": {
  "kernelspec": {
   "display_name": "Python 2",
   "language": "python",
   "name": "python2"
  },
  "language_info": {
   "codemirror_mode": {
    "name": "ipython",
    "version": 2
   },
   "file_extension": ".py",
   "mimetype": "text/x-python",
   "name": "python",
   "nbconvert_exporter": "python",
   "pygments_lexer": "ipython2",
   "version": "2.7.11"
  }
 },
 "nbformat": 4,
 "nbformat_minor": 0
}
